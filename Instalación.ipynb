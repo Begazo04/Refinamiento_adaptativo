{
 "cells": [
  {
   "cell_type": "code",
   "execution_count": 1,
   "id": "09aa644f",
   "metadata": {},
   "outputs": [
    {
     "name": "stdout",
     "output_type": "stream",
     "text": [
      "Collecting pathos\n",
      "  Downloading pathos-0.2.8-py2.py3-none-any.whl (81 kB)\n",
      "\u001b[K     |████████████████████████████████| 81 kB 1.8 MB/s  eta 0:00:01\n",
      "\u001b[?25hCollecting multiprocess>=0.70.12\n",
      "  Downloading multiprocess-0.70.12.2-py39-none-any.whl (128 kB)\n",
      "\u001b[K     |████████████████████████████████| 128 kB 27.7 MB/s eta 0:00:01\n",
      "\u001b[?25hCollecting pox>=0.3.0\n",
      "  Downloading pox-0.3.0-py2.py3-none-any.whl (30 kB)\n",
      "Collecting ppft>=1.6.6.4\n",
      "  Downloading ppft-1.6.6.4-py3-none-any.whl (65 kB)\n",
      "\u001b[K     |████████████████████████████████| 65 kB 659 kB/s  eta 0:00:01\n",
      "\u001b[?25hCollecting dill>=0.3.4\n",
      "  Downloading dill-0.3.4-py2.py3-none-any.whl (86 kB)\n",
      "\u001b[K     |████████████████████████████████| 86 kB 1.1 MB/s  eta 0:00:01\n",
      "\u001b[?25hRequirement already satisfied: six>=1.7.3 in /home/elmobegazo/miniconda3/envs/bempp_prod_openmm/lib/python3.9/site-packages (from ppft>=1.6.6.4->pathos) (1.16.0)\n",
      "Installing collected packages: dill, ppft, pox, multiprocess, pathos\n",
      "Successfully installed dill-0.3.4 multiprocess-0.70.12.2 pathos-0.2.8 pox-0.3.0 ppft-1.6.6.4\n"
     ]
    }
   ],
   "source": [
    "!pip install pathos"
   ]
  },
  {
   "cell_type": "code",
   "execution_count": 2,
   "id": "45dc7f75",
   "metadata": {},
   "outputs": [
    {
     "name": "stdout",
     "output_type": "stream",
     "text": [
      "Collecting matplotlib\n",
      "  Downloading matplotlib-3.4.3-cp39-cp39-manylinux1_x86_64.whl (10.3 MB)\n",
      "\u001b[K     |████████████████████████████████| 10.3 MB 7.4 MB/s eta 0:00:01\n",
      "\u001b[?25hCollecting cycler>=0.10\n",
      "  Downloading cycler-0.10.0-py2.py3-none-any.whl (6.5 kB)\n",
      "Collecting kiwisolver>=1.0.1\n",
      "  Downloading kiwisolver-1.3.1-cp39-cp39-manylinux1_x86_64.whl (1.2 MB)\n",
      "\u001b[K     |████████████████████████████████| 1.2 MB 36.6 MB/s eta 0:00:01\n",
      "\u001b[?25hRequirement already satisfied: python-dateutil>=2.7 in /home/elmobegazo/miniconda3/envs/bempp_prod_openmm/lib/python3.9/site-packages (from matplotlib) (2.8.1)\n",
      "Collecting pillow>=6.2.0\n",
      "  Downloading Pillow-8.3.1-cp39-cp39-manylinux_2_5_x86_64.manylinux1_x86_64.whl (3.0 MB)\n",
      "\u001b[K     |████████████████████████████████| 3.0 MB 39.3 MB/s eta 0:00:01\n",
      "\u001b[?25hRequirement already satisfied: numpy>=1.16 in /home/elmobegazo/miniconda3/envs/bempp_prod_openmm/lib/python3.9/site-packages (from matplotlib) (1.20.3)\n",
      "Requirement already satisfied: pyparsing>=2.2.1 in /home/elmobegazo/miniconda3/envs/bempp_prod_openmm/lib/python3.9/site-packages (from matplotlib) (2.4.7)\n",
      "Requirement already satisfied: six in /home/elmobegazo/miniconda3/envs/bempp_prod_openmm/lib/python3.9/site-packages (from cycler>=0.10->matplotlib) (1.16.0)\n",
      "Installing collected packages: pillow, kiwisolver, cycler, matplotlib\n",
      "Successfully installed cycler-0.10.0 kiwisolver-1.3.1 matplotlib-3.4.3 pillow-8.3.1\n"
     ]
    }
   ],
   "source": [
    "!pip install matplotlib"
   ]
  },
  {
   "cell_type": "code",
   "execution_count": 3,
   "id": "2e86b3f0",
   "metadata": {},
   "outputs": [
    {
     "name": "stdout",
     "output_type": "stream",
     "text": [
      "Collecting trimesh\n",
      "  Downloading trimesh-3.9.28-py3-none-any.whl (635 kB)\n",
      "\u001b[K     |████████████████████████████████| 635 kB 8.2 MB/s eta 0:00:01\n",
      "\u001b[?25hRequirement already satisfied: setuptools in /home/elmobegazo/miniconda3/envs/bempp_prod_openmm/lib/python3.9/site-packages (from trimesh) (49.6.0.post20210108)\n",
      "Requirement already satisfied: numpy in /home/elmobegazo/miniconda3/envs/bempp_prod_openmm/lib/python3.9/site-packages (from trimesh) (1.20.3)\n",
      "Installing collected packages: trimesh\n",
      "Successfully installed trimesh-3.9.28\n"
     ]
    }
   ],
   "source": [
    "!pip install trimesh"
   ]
  },
  {
   "cell_type": "code",
   "execution_count": 4,
   "id": "578f72b9",
   "metadata": {},
   "outputs": [
    {
     "name": "stdout",
     "output_type": "stream",
     "text": [
      "Collecting pygamer\n",
      "  Downloading pygamer-2.0.7.tar.gz (1.2 MB)\n",
      "\u001b[K     |████████████████████████████████| 1.2 MB 10.7 MB/s eta 0:00:01\n",
      "\u001b[?25h  Installing build dependencies ... \u001b[?25ldone\n",
      "\u001b[?25h  Getting requirements to build wheel ... \u001b[?25ldone\n",
      "\u001b[?25h  Installing backend dependencies ... \u001b[?25ldone\n",
      "\u001b[?25h    Preparing wheel metadata ... \u001b[?25ldone\n",
      "\u001b[?25hRequirement already satisfied: numpy>=1.8.0 in /home/elmobegazo/miniconda3/envs/bempp_prod_openmm/lib/python3.9/site-packages (from pygamer) (1.20.3)\n",
      "Building wheels for collected packages: pygamer\n",
      "  Building wheel for pygamer (PEP 517) ... \u001b[?25ldone\n",
      "\u001b[?25h  Created wheel for pygamer: filename=pygamer-2.0.7-cp39-cp39-linux_x86_64.whl size=2408314 sha256=67b92721a390c06c2ecf8da5cd6a5575990ef5f1bdfdcfc1e9786c3271d30a37\n",
      "  Stored in directory: /home/elmobegazo/.cache/pip/wheels/71/81/6a/d3e40d411d29047664b833154295d494fb404b16d4486d4826\n",
      "Successfully built pygamer\n",
      "Installing collected packages: pygamer\n",
      "Successfully installed pygamer-2.0.7\n"
     ]
    }
   ],
   "source": [
    "!pip install pygamer"
   ]
  },
  {
   "cell_type": "code",
   "execution_count": 5,
   "id": "36ba7fac",
   "metadata": {},
   "outputs": [
    {
     "name": "stdout",
     "output_type": "stream",
     "text": [
      "Collecting threevis\n",
      "  Downloading threevis-0.1.0.post25-py2.py3-none-any.whl (11 kB)\n",
      "Requirement already satisfied: numpy in /home/elmobegazo/miniconda3/envs/bempp_prod_openmm/lib/python3.9/site-packages (from threevis) (1.20.3)\n",
      "Collecting pythreejs>=1.0.0\n",
      "  Downloading pythreejs-2.3.0-py2.py3-none-any.whl (3.4 MB)\n",
      "\u001b[K     |████████████████████████████████| 3.4 MB 9.2 MB/s eta 0:00:01\n",
      "\u001b[?25hCollecting ipydatawidgets>=1.1.1\n",
      "  Downloading ipydatawidgets-4.2.0-py2.py3-none-any.whl (275 kB)\n",
      "\u001b[K     |████████████████████████████████| 275 kB 30.9 MB/s eta 0:00:01\n",
      "\u001b[?25hRequirement already satisfied: ipywidgets>=7.2.1 in /home/elmobegazo/miniconda3/envs/bempp_prod_openmm/lib/python3.9/site-packages (from pythreejs>=1.0.0->threevis) (7.6.3)\n",
      "Collecting traittypes>=0.2.0\n",
      "  Downloading traittypes-0.2.1-py2.py3-none-any.whl (8.6 kB)\n",
      "Requirement already satisfied: six in /home/elmobegazo/miniconda3/envs/bempp_prod_openmm/lib/python3.9/site-packages (from ipydatawidgets>=1.1.1->pythreejs>=1.0.0->threevis) (1.16.0)\n",
      "Requirement already satisfied: traitlets>=4.3.1 in /home/elmobegazo/miniconda3/envs/bempp_prod_openmm/lib/python3.9/site-packages (from ipywidgets>=7.2.1->pythreejs>=1.0.0->threevis) (5.0.5)\n",
      "Requirement already satisfied: ipython>=4.0.0 in /home/elmobegazo/miniconda3/envs/bempp_prod_openmm/lib/python3.9/site-packages (from ipywidgets>=7.2.1->pythreejs>=1.0.0->threevis) (7.24.1)\n",
      "Requirement already satisfied: widgetsnbextension~=3.5.0 in /home/elmobegazo/miniconda3/envs/bempp_prod_openmm/lib/python3.9/site-packages (from ipywidgets>=7.2.1->pythreejs>=1.0.0->threevis) (3.5.1)\n",
      "Requirement already satisfied: jupyterlab-widgets>=1.0.0 in /home/elmobegazo/miniconda3/envs/bempp_prod_openmm/lib/python3.9/site-packages (from ipywidgets>=7.2.1->pythreejs>=1.0.0->threevis) (1.0.0)\n",
      "Requirement already satisfied: ipykernel>=4.5.1 in /home/elmobegazo/miniconda3/envs/bempp_prod_openmm/lib/python3.9/site-packages (from ipywidgets>=7.2.1->pythreejs>=1.0.0->threevis) (5.5.5)\n",
      "Requirement already satisfied: nbformat>=4.2.0 in /home/elmobegazo/miniconda3/envs/bempp_prod_openmm/lib/python3.9/site-packages (from ipywidgets>=7.2.1->pythreejs>=1.0.0->threevis) (5.1.3)\n",
      "Requirement already satisfied: tornado>=4.2 in /home/elmobegazo/miniconda3/envs/bempp_prod_openmm/lib/python3.9/site-packages (from ipykernel>=4.5.1->ipywidgets>=7.2.1->pythreejs>=1.0.0->threevis) (6.1)\n",
      "Requirement already satisfied: jupyter-client in /home/elmobegazo/miniconda3/envs/bempp_prod_openmm/lib/python3.9/site-packages (from ipykernel>=4.5.1->ipywidgets>=7.2.1->pythreejs>=1.0.0->threevis) (6.1.12)\n",
      "Requirement already satisfied: decorator in /home/elmobegazo/miniconda3/envs/bempp_prod_openmm/lib/python3.9/site-packages (from ipython>=4.0.0->ipywidgets>=7.2.1->pythreejs>=1.0.0->threevis) (5.0.9)\n",
      "Requirement already satisfied: backcall in /home/elmobegazo/miniconda3/envs/bempp_prod_openmm/lib/python3.9/site-packages (from ipython>=4.0.0->ipywidgets>=7.2.1->pythreejs>=1.0.0->threevis) (0.2.0)\n",
      "Requirement already satisfied: pygments in /home/elmobegazo/miniconda3/envs/bempp_prod_openmm/lib/python3.9/site-packages (from ipython>=4.0.0->ipywidgets>=7.2.1->pythreejs>=1.0.0->threevis) (2.9.0)\n",
      "Requirement already satisfied: jedi>=0.16 in /home/elmobegazo/miniconda3/envs/bempp_prod_openmm/lib/python3.9/site-packages (from ipython>=4.0.0->ipywidgets>=7.2.1->pythreejs>=1.0.0->threevis) (0.18.0)\n",
      "Requirement already satisfied: matplotlib-inline in /home/elmobegazo/miniconda3/envs/bempp_prod_openmm/lib/python3.9/site-packages (from ipython>=4.0.0->ipywidgets>=7.2.1->pythreejs>=1.0.0->threevis) (0.1.2)\n",
      "Requirement already satisfied: pexpect>4.3 in /home/elmobegazo/miniconda3/envs/bempp_prod_openmm/lib/python3.9/site-packages (from ipython>=4.0.0->ipywidgets>=7.2.1->pythreejs>=1.0.0->threevis) (4.8.0)\n",
      "Requirement already satisfied: setuptools>=18.5 in /home/elmobegazo/miniconda3/envs/bempp_prod_openmm/lib/python3.9/site-packages (from ipython>=4.0.0->ipywidgets>=7.2.1->pythreejs>=1.0.0->threevis) (49.6.0.post20210108)\n",
      "Requirement already satisfied: prompt-toolkit!=3.0.0,!=3.0.1,<3.1.0,>=2.0.0 in /home/elmobegazo/miniconda3/envs/bempp_prod_openmm/lib/python3.9/site-packages (from ipython>=4.0.0->ipywidgets>=7.2.1->pythreejs>=1.0.0->threevis) (3.0.18)\n",
      "Requirement already satisfied: pickleshare in /home/elmobegazo/miniconda3/envs/bempp_prod_openmm/lib/python3.9/site-packages (from ipython>=4.0.0->ipywidgets>=7.2.1->pythreejs>=1.0.0->threevis) (0.7.5)\n",
      "Requirement already satisfied: parso<0.9.0,>=0.8.0 in /home/elmobegazo/miniconda3/envs/bempp_prod_openmm/lib/python3.9/site-packages (from jedi>=0.16->ipython>=4.0.0->ipywidgets>=7.2.1->pythreejs>=1.0.0->threevis) (0.8.2)\n",
      "Requirement already satisfied: jsonschema!=2.5.0,>=2.4 in /home/elmobegazo/miniconda3/envs/bempp_prod_openmm/lib/python3.9/site-packages (from nbformat>=4.2.0->ipywidgets>=7.2.1->pythreejs>=1.0.0->threevis) (3.2.0)\n",
      "Requirement already satisfied: ipython-genutils in /home/elmobegazo/miniconda3/envs/bempp_prod_openmm/lib/python3.9/site-packages (from nbformat>=4.2.0->ipywidgets>=7.2.1->pythreejs>=1.0.0->threevis) (0.2.0)\n",
      "Requirement already satisfied: jupyter-core in /home/elmobegazo/miniconda3/envs/bempp_prod_openmm/lib/python3.9/site-packages (from nbformat>=4.2.0->ipywidgets>=7.2.1->pythreejs>=1.0.0->threevis) (4.7.1)\n",
      "Requirement already satisfied: attrs>=17.4.0 in /home/elmobegazo/miniconda3/envs/bempp_prod_openmm/lib/python3.9/site-packages (from jsonschema!=2.5.0,>=2.4->nbformat>=4.2.0->ipywidgets>=7.2.1->pythreejs>=1.0.0->threevis) (21.2.0)\n",
      "Requirement already satisfied: pyrsistent>=0.14.0 in /home/elmobegazo/miniconda3/envs/bempp_prod_openmm/lib/python3.9/site-packages (from jsonschema!=2.5.0,>=2.4->nbformat>=4.2.0->ipywidgets>=7.2.1->pythreejs>=1.0.0->threevis) (0.17.3)\n",
      "Requirement already satisfied: ptyprocess>=0.5 in /home/elmobegazo/miniconda3/envs/bempp_prod_openmm/lib/python3.9/site-packages (from pexpect>4.3->ipython>=4.0.0->ipywidgets>=7.2.1->pythreejs>=1.0.0->threevis) (0.7.0)\n",
      "Requirement already satisfied: wcwidth in /home/elmobegazo/miniconda3/envs/bempp_prod_openmm/lib/python3.9/site-packages (from prompt-toolkit!=3.0.0,!=3.0.1,<3.1.0,>=2.0.0->ipython>=4.0.0->ipywidgets>=7.2.1->pythreejs>=1.0.0->threevis) (0.2.5)\n",
      "Requirement already satisfied: notebook>=4.4.1 in /home/elmobegazo/miniconda3/envs/bempp_prod_openmm/lib/python3.9/site-packages (from widgetsnbextension~=3.5.0->ipywidgets>=7.2.1->pythreejs>=1.0.0->threevis) (6.4.0)\n",
      "Requirement already satisfied: jinja2 in /home/elmobegazo/miniconda3/envs/bempp_prod_openmm/lib/python3.9/site-packages (from notebook>=4.4.1->widgetsnbextension~=3.5.0->ipywidgets>=7.2.1->pythreejs>=1.0.0->threevis) (3.0.1)\n",
      "Requirement already satisfied: nbconvert in /home/elmobegazo/miniconda3/envs/bempp_prod_openmm/lib/python3.9/site-packages (from notebook>=4.4.1->widgetsnbextension~=3.5.0->ipywidgets>=7.2.1->pythreejs>=1.0.0->threevis) (6.0.7)\n",
      "Requirement already satisfied: terminado>=0.8.3 in /home/elmobegazo/miniconda3/envs/bempp_prod_openmm/lib/python3.9/site-packages (from notebook>=4.4.1->widgetsnbextension~=3.5.0->ipywidgets>=7.2.1->pythreejs>=1.0.0->threevis) (0.10.0)\n",
      "Requirement already satisfied: argon2-cffi in /home/elmobegazo/miniconda3/envs/bempp_prod_openmm/lib/python3.9/site-packages (from notebook>=4.4.1->widgetsnbextension~=3.5.0->ipywidgets>=7.2.1->pythreejs>=1.0.0->threevis) (20.1.0)\n",
      "Requirement already satisfied: prometheus-client in /home/elmobegazo/miniconda3/envs/bempp_prod_openmm/lib/python3.9/site-packages (from notebook>=4.4.1->widgetsnbextension~=3.5.0->ipywidgets>=7.2.1->pythreejs>=1.0.0->threevis) (0.11.0)\n",
      "Requirement already satisfied: pyzmq>=17 in /home/elmobegazo/miniconda3/envs/bempp_prod_openmm/lib/python3.9/site-packages (from notebook>=4.4.1->widgetsnbextension~=3.5.0->ipywidgets>=7.2.1->pythreejs>=1.0.0->threevis) (22.1.0)\n",
      "Requirement already satisfied: Send2Trash>=1.5.0 in /home/elmobegazo/miniconda3/envs/bempp_prod_openmm/lib/python3.9/site-packages (from notebook>=4.4.1->widgetsnbextension~=3.5.0->ipywidgets>=7.2.1->pythreejs>=1.0.0->threevis) (1.5.0)\n",
      "Requirement already satisfied: python-dateutil>=2.1 in /home/elmobegazo/miniconda3/envs/bempp_prod_openmm/lib/python3.9/site-packages (from jupyter-client->ipykernel>=4.5.1->ipywidgets>=7.2.1->pythreejs>=1.0.0->threevis) (2.8.1)\n",
      "Requirement already satisfied: cffi>=1.0.0 in /home/elmobegazo/miniconda3/envs/bempp_prod_openmm/lib/python3.9/site-packages (from argon2-cffi->notebook>=4.4.1->widgetsnbextension~=3.5.0->ipywidgets>=7.2.1->pythreejs>=1.0.0->threevis) (1.14.5)\n",
      "Requirement already satisfied: pycparser in /home/elmobegazo/miniconda3/envs/bempp_prod_openmm/lib/python3.9/site-packages (from cffi>=1.0.0->argon2-cffi->notebook>=4.4.1->widgetsnbextension~=3.5.0->ipywidgets>=7.2.1->pythreejs>=1.0.0->threevis) (2.20)\n"
     ]
    },
    {
     "name": "stdout",
     "output_type": "stream",
     "text": [
      "Requirement already satisfied: MarkupSafe>=2.0 in /home/elmobegazo/miniconda3/envs/bempp_prod_openmm/lib/python3.9/site-packages (from jinja2->notebook>=4.4.1->widgetsnbextension~=3.5.0->ipywidgets>=7.2.1->pythreejs>=1.0.0->threevis) (2.0.1)\n",
      "Requirement already satisfied: mistune<2,>=0.8.1 in /home/elmobegazo/miniconda3/envs/bempp_prod_openmm/lib/python3.9/site-packages (from nbconvert->notebook>=4.4.1->widgetsnbextension~=3.5.0->ipywidgets>=7.2.1->pythreejs>=1.0.0->threevis) (0.8.4)\n",
      "Requirement already satisfied: bleach in /home/elmobegazo/miniconda3/envs/bempp_prod_openmm/lib/python3.9/site-packages (from nbconvert->notebook>=4.4.1->widgetsnbextension~=3.5.0->ipywidgets>=7.2.1->pythreejs>=1.0.0->threevis) (3.3.0)\n",
      "Requirement already satisfied: defusedxml in /home/elmobegazo/miniconda3/envs/bempp_prod_openmm/lib/python3.9/site-packages (from nbconvert->notebook>=4.4.1->widgetsnbextension~=3.5.0->ipywidgets>=7.2.1->pythreejs>=1.0.0->threevis) (0.7.1)\n",
      "Requirement already satisfied: entrypoints>=0.2.2 in /home/elmobegazo/miniconda3/envs/bempp_prod_openmm/lib/python3.9/site-packages (from nbconvert->notebook>=4.4.1->widgetsnbextension~=3.5.0->ipywidgets>=7.2.1->pythreejs>=1.0.0->threevis) (0.3)\n",
      "Requirement already satisfied: testpath in /home/elmobegazo/miniconda3/envs/bempp_prod_openmm/lib/python3.9/site-packages (from nbconvert->notebook>=4.4.1->widgetsnbextension~=3.5.0->ipywidgets>=7.2.1->pythreejs>=1.0.0->threevis) (0.5.0)\n",
      "Requirement already satisfied: pandocfilters>=1.4.1 in /home/elmobegazo/miniconda3/envs/bempp_prod_openmm/lib/python3.9/site-packages (from nbconvert->notebook>=4.4.1->widgetsnbextension~=3.5.0->ipywidgets>=7.2.1->pythreejs>=1.0.0->threevis) (1.4.2)\n",
      "Requirement already satisfied: jupyterlab-pygments in /home/elmobegazo/miniconda3/envs/bempp_prod_openmm/lib/python3.9/site-packages (from nbconvert->notebook>=4.4.1->widgetsnbextension~=3.5.0->ipywidgets>=7.2.1->pythreejs>=1.0.0->threevis) (0.1.2)\n",
      "Requirement already satisfied: nbclient<0.6.0,>=0.5.0 in /home/elmobegazo/miniconda3/envs/bempp_prod_openmm/lib/python3.9/site-packages (from nbconvert->notebook>=4.4.1->widgetsnbextension~=3.5.0->ipywidgets>=7.2.1->pythreejs>=1.0.0->threevis) (0.5.3)\n",
      "Requirement already satisfied: async-generator in /home/elmobegazo/miniconda3/envs/bempp_prod_openmm/lib/python3.9/site-packages (from nbclient<0.6.0,>=0.5.0->nbconvert->notebook>=4.4.1->widgetsnbextension~=3.5.0->ipywidgets>=7.2.1->pythreejs>=1.0.0->threevis) (1.10)\n",
      "Requirement already satisfied: nest-asyncio in /home/elmobegazo/miniconda3/envs/bempp_prod_openmm/lib/python3.9/site-packages (from nbclient<0.6.0,>=0.5.0->nbconvert->notebook>=4.4.1->widgetsnbextension~=3.5.0->ipywidgets>=7.2.1->pythreejs>=1.0.0->threevis) (1.5.1)\n",
      "Requirement already satisfied: webencodings in /home/elmobegazo/miniconda3/envs/bempp_prod_openmm/lib/python3.9/site-packages (from bleach->nbconvert->notebook>=4.4.1->widgetsnbextension~=3.5.0->ipywidgets>=7.2.1->pythreejs>=1.0.0->threevis) (0.5.1)\n",
      "Requirement already satisfied: packaging in /home/elmobegazo/miniconda3/envs/bempp_prod_openmm/lib/python3.9/site-packages (from bleach->nbconvert->notebook>=4.4.1->widgetsnbextension~=3.5.0->ipywidgets>=7.2.1->pythreejs>=1.0.0->threevis) (20.9)\n",
      "Requirement already satisfied: pyparsing>=2.0.2 in /home/elmobegazo/miniconda3/envs/bempp_prod_openmm/lib/python3.9/site-packages (from packaging->bleach->nbconvert->notebook>=4.4.1->widgetsnbextension~=3.5.0->ipywidgets>=7.2.1->pythreejs>=1.0.0->threevis) (2.4.7)\n",
      "Installing collected packages: traittypes, ipydatawidgets, pythreejs, threevis\n",
      "Successfully installed ipydatawidgets-4.2.0 pythreejs-2.3.0 threevis-0.1.0.post25 traittypes-0.2.1\n"
     ]
    }
   ],
   "source": [
    "!pip install threevis"
   ]
  },
  {
   "cell_type": "code",
   "execution_count": null,
   "id": "3a0df599",
   "metadata": {},
   "outputs": [
    {
     "name": "stdout",
     "output_type": "stream",
     "text": [
      "Found existing installation: preprocess 2.0.0\r\n",
      "Uninstalling preprocess-2.0.0:\r\n",
      "  Would remove:\r\n",
      "    /home/elmobegazo/miniconda3/envs/bempp_prod_openmm/bin/preprocess\r\n",
      "    /home/elmobegazo/miniconda3/envs/bempp_prod_openmm/lib/python3.9/site-packages/preprocess-2.0.0.dist-info/*\r\n",
      "    /home/elmobegazo/miniconda3/envs/bempp_prod_openmm/lib/python3.9/site-packages/preprocess.py\r\n",
      "Proceed (y/n)? "
     ]
    }
   ],
   "source": [
    "!pip uninstall preprocess"
   ]
  },
  {
   "cell_type": "code",
   "execution_count": 2,
   "id": "47790e70",
   "metadata": {},
   "outputs": [
    {
     "name": "stdout",
     "output_type": "stream",
     "text": [
      "Collecting pyyaml\n",
      "  Downloading PyYAML-5.4.1-cp39-cp39-manylinux1_x86_64.whl (630 kB)\n",
      "\u001b[K     |████████████████████████████████| 630 kB 8.0 MB/s eta 0:00:01\n",
      "\u001b[?25hInstalling collected packages: pyyaml\n",
      "Successfully installed pyyaml-5.4.1\n"
     ]
    }
   ],
   "source": [
    "!pip install pyyaml"
   ]
  },
  {
   "cell_type": "code",
   "execution_count": null,
   "id": "1bcdaf5c",
   "metadata": {},
   "outputs": [],
   "source": []
  }
 ],
 "metadata": {
  "kernelspec": {
   "display_name": "Python 3",
   "language": "python",
   "name": "python3"
  },
  "language_info": {
   "codemirror_mode": {
    "name": "ipython",
    "version": 3
   },
   "file_extension": ".py",
   "mimetype": "text/x-python",
   "name": "python",
   "nbconvert_exporter": "python",
   "pygments_lexer": "ipython3",
   "version": "3.9.4"
  }
 },
 "nbformat": 4,
 "nbformat_minor": 5
}
