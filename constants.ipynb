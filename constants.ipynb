{
 "cells": [
  {
   "cell_type": "code",
   "execution_count": 1,
   "id": "3a88bd54",
   "metadata": {},
   "outputs": [
    {
     "name": "stdout",
     "output_type": "stream",
     "text": [
      "Writing constants.py\n"
     ]
    }
   ],
   "source": [
    "%%writefile constants.py\n",
    "import os\n",
    "import numpy as np\n",
    "class mesh_info():\n",
    "    \n",
    "    #global mol_name , mesh_density , suffix , path , q , x_q , phi_space , phi_order , u_space , u_order\n",
    "    \n",
    "    mol_name = ''\n",
    "    mesh_density = 2.0\n",
    "    suffix   = '-0'\n",
    "    path = os.path.join('Molecule',mol_name) \n",
    "    \n",
    "    stern_thickness = 0\n",
    "    \n",
    "    q   = np.array([1.]) ###checkear esto, debe ir ([ ]) para definir un arreglo\n",
    "    x_q = np.array([[0. , 0. , 0. ]])\n",
    "    \n",
    "    phi_space , phi_order = 'P'  , 1\n",
    "    u_space   , u_order   = 'DP' , 0\n",
    "    \n",
    "class potential():\n",
    "    \n",
    "    dirichl_space_u = float('nan')\n",
    "    neumann_space_u = float('nan')\n",
    "    dual_to_dir_s_u = float('nan')\n",
    "    \n",
    "    U  = float('nan')\n",
    "    dU = float('nan')\n",
    "    \n",
    "class values():\n",
    "    \n",
    "    global ep_m , ep_s , k , e_c , k_B , T , C , K\n",
    "    \n",
    "    K     = 0.5 * 4. * np.pi * 332.064 \n",
    "        \n",
    "    ep_m = 4.\n",
    "    ep_s = 80.\n",
    "    k = 0.125\n",
    "\n",
    "    # e_c : Carga del proton\n",
    "    # k_B : Constante de Stefan Boltzmann\n",
    "    # T   : Temperatura promedio, en grados Kelvin\n",
    "    # C   : Constante igual a e_c/(k_B*T). Para el caso se utilizara como 1 y se agregara una cte a la QoI\n",
    "    e_c = 1.60217662e-19 # [C] - proton charge\n",
    "    k_B = 1.38064852e-23 # [m2 kg s-2 K-1]\n",
    "    T   = 298. # [K]  \n",
    "    C = 1. # "
   ]
  },
  {
   "cell_type": "code",
   "execution_count": null,
   "id": "6682586c",
   "metadata": {},
   "outputs": [],
   "source": []
  }
 ],
 "metadata": {
  "kernelspec": {
   "display_name": "Python 3",
   "language": "python",
   "name": "python3"
  },
  "language_info": {
   "codemirror_mode": {
    "name": "ipython",
    "version": 3
   },
   "file_extension": ".py",
   "mimetype": "text/x-python",
   "name": "python",
   "nbconvert_exporter": "python",
   "pygments_lexer": "ipython3",
   "version": "3.9.4"
  }
 },
 "nbformat": 4,
 "nbformat_minor": 5
}
