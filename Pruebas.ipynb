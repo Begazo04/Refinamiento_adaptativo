{
 "cells": [
  {
   "cell_type": "code",
   "execution_count": 9,
   "id": "680e3db7",
   "metadata": {},
   "outputs": [
    {
     "name": "stderr",
     "output_type": "stream",
     "text": [
      "/home/elmobegazo/miniconda3/envs/bempp_prod_openmm/lib/python3.9/site-packages/scipy/sparse/linalg/dsolve/linsolve.py:318: SparseEfficiencyWarning: splu requires CSC matrix format\n",
      "  warn('splu requires CSC matrix format', SparseEfficiencyWarning)\n"
     ]
    },
    {
     "name": "stdout",
     "output_type": "stream",
     "text": [
      "-5.23532736916225\n"
     ]
    }
   ],
   "source": [
    "#bemppcl\n",
    "import numpy as np\n",
    "import bempp.api\n",
    "from bempp.api.operators.potential import laplace as lp\n",
    "from bempp.api.operators.boundary import sparse, laplace, modified_helmholtz\n",
    "vert = np.loadtxt ('vert.vert')\n",
    "face = np.loadtxt ('face.face')-1\n",
    "grid = bempp.api.Grid (np.transpose(vert), np.transpose(face))\n",
    "space = bempp.api.function_space(grid,'DP', 0)\n",
    "q = np.array([0.27, -0.70, 0.43])\n",
    "x_q = np.array([[0.0190,0.00,0.6556],[-0.1197,0.00,-0.7372],[0.7370,0.00,-1.1390]])\n",
    "ep_in = 4\n",
    "ep_m = 4\n",
    "k = 0.125\n",
    "ep_s = 80.\n",
    "K     = 0.5 * 4. * np.pi * 332.064\n",
    "\n",
    "@bempp.api.real_callable\n",
    "def charges_fun(x, n, domain_index, result):\n",
    "    nrm = np.sqrt((x[0] - x_q[:, 0]) ** 2 + (x[1] - x_q[:, 1]) ** 2 + (x[2] - x_q[:, 2]) ** 2)\n",
    "    aux = np.sum(q / nrm)\n",
    "    result[0] = aux / (4 * np.pi * ep_in)\n",
    "    \n",
    "@bempp.api.real_callable    \n",
    "def zero_i(x, n, domain_index, result):\n",
    "    result[:] = 0\n",
    "\n",
    "zero_grid_fun    = bempp.api.GridFunction(space, fun=zero_i     )    \n",
    "charged_grid_fun = bempp.api.GridFunction(space, fun=charges_fun)\n",
    "#print (charged_grid_fun.coefficients.real)\n",
    "rhs = [charged_grid_fun, zero_grid_fun]\n",
    "\n",
    "identity = sparse.identity(space, space, space)\n",
    "slp_in   = laplace.single_layer(space, space, space)\n",
    "dlp_in   = laplace.double_layer(space, space, space)\n",
    "\n",
    "slp_out  = modified_helmholtz.single_layer(space, space, space, k)\n",
    "dlp_out  = modified_helmholtz.double_layer(space, space, space, k)\n",
    "\n",
    "blocked = bempp.api.BlockedOperator(2, 2)\n",
    "blocked[0, 0] = 0.5*identity + dlp_in\n",
    "blocked[0, 1] = -slp_in\n",
    "blocked[1, 0] = 0.5*identity - dlp_out\n",
    "blocked[1, 1] = (ep_m/ep_s)*slp_out\n",
    "\n",
    "sol, info, it_count = bempp.api.linalg.gmres( blocked, rhs , return_iteration_count=True , tol=1e-5 ,\n",
    "                                               use_strong_form=True)\n",
    "U , dU = sol\n",
    "\n",
    "#print (U.coefficients.real)\n",
    "#print (dU.coefficients.real)\n",
    "\n",
    "slp_in_O = lp.single_layer(space, x_q.transpose()) \n",
    "dlp_in_O = lp.double_layer(space, x_q.transpose())\n",
    "U_R_O = slp_in_O * dU  -  dlp_in_O * U\n",
    "S_trad     = K * np.sum(q * U_R_O).real\n",
    "\n",
    "print (S_trad)"
   ]
  },
  {
   "cell_type": "code",
   "execution_count": 45,
   "id": "18b68734",
   "metadata": {},
   "outputs": [],
   "source": [
    "a = np.array ([ 2.58808169e-03,  1.62113861e-03, -1.11696735e-03, -2.15266546e-03,\n",
    "         -2.46334254e-03, -3.09950626e-03, -2.61145968e-03, -2.93678831e-03,\n",
    "         -1.77125587e-03, -1.43403586e-03,  1.01500815e-03,  3.36363501e-03,\n",
    "          1.14924191e-03,  1.18562558e-03,  1.05150484e-03,  1.06429670e-03,\n",
    "          1.19507411e-03,  1.06544648e-03,  7.74953415e-04,  6.79938924e-04,\n",
    "          8.65031437e-04,  7.44037648e-04,  8.36009817e-04,  4.80808091e-04,\n",
    "         -2.58169946e-04, -5.89747381e-04,  5.18739817e-04,  1.04774819e-03,\n",
    "          1.38958536e-03,  1.33637908e-03,  1.05145670e-03,  3.38541739e-04,\n",
    "         -5.89747381e-04, -1.31735267e-05,  6.64722359e-04, -7.62338706e-04,\n",
    "         -7.57556692e-05, -9.98110465e-04, -2.78101810e-03, -1.19882240e-03,\n",
    "          4.81071294e-03,  7.92556116e-03, -9.52790243e-04, -2.67325708e-03,\n",
    "         -3.57150524e-03, -4.00463556e-03, -3.93678667e-03, -3.23170577e-03])\n",
    "b =np.array ([ 2.58808169e-03,  1.62113861e-03, -1.11696735e-03, -2.15266546e-03,\n",
    " -2.46334254e-03, -3.09950626e-03, -2.61145968e-03, -2.93678831e-03,\n",
    " -1.77125587e-03, -1.43403586e-03,  1.01500815e-03,  3.36363501e-03,\n",
    "  1.14924191e-03,  1.18562558e-03,  1.05150484e-03,  1.06429670e-03,\n",
    "  1.19507411e-03,  1.06544648e-03,  7.74953415e-04,  6.79938924e-04,\n",
    "  8.65031437e-04,  7.44037648e-04,  8.36009817e-04,  4.80808091e-04,\n",
    " -2.58169946e-04, -5.89747381e-04,  5.18739817e-04,  1.04774819e-03,\n",
    "  1.38958536e-03,  1.33637908e-03,  1.05145670e-03,  3.38541739e-04,\n",
    " -5.89747381e-04, -1.31735267e-05,  6.64722359e-04, -7.62338706e-04,\n",
    " -7.57556692e-05, -9.98110465e-04, -2.78101810e-03, -1.19882240e-03,\n",
    "  4.81071294e-03,  7.92556116e-03, -9.52790243e-04, -2.67325708e-03,\n",
    " -3.57150524e-03, -4.00463556e-03, -3.93678667e-03, -3.23170577e-03])"
   ]
  },
  {
   "cell_type": "code",
   "execution_count": 46,
   "id": "e8f92ac7",
   "metadata": {},
   "outputs": [
    {
     "name": "stdout",
     "output_type": "stream",
     "text": [
      "[0. 0. 0. 0. 0. 0. 0. 0. 0. 0. 0. 0. 0. 0. 0. 0. 0. 0. 0. 0. 0. 0. 0. 0.\n",
      " 0. 0. 0. 0. 0. 0. 0. 0. 0. 0. 0. 0. 0. 0. 0. 0. 0. 0. 0. 0. 0. 0. 0. 0.]\n"
     ]
    }
   ],
   "source": [
    "print (a-b)"
   ]
  },
  {
   "cell_type": "code",
   "execution_count": null,
   "id": "bbe7fdc9",
   "metadata": {},
   "outputs": [],
   "source": []
  }
 ],
 "metadata": {
  "kernelspec": {
   "display_name": "Python 3",
   "language": "python",
   "name": "python3"
  },
  "language_info": {
   "codemirror_mode": {
    "name": "ipython",
    "version": 3
   },
   "file_extension": ".py",
   "mimetype": "text/x-python",
   "name": "python",
   "nbconvert_exporter": "python",
   "pygments_lexer": "ipython3",
   "version": "3.9.4"
  }
 },
 "nbformat": 4,
 "nbformat_minor": 5
}
